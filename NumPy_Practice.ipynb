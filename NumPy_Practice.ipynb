{
 "cells": [
  {
   "cell_type": "markdown",
   "id": "1314207c",
   "metadata": {},
   "source": [
    "# <p style=\"background-color:green;font-family:newtimeroman;font-size:200%;color:white;text-align:center;border-radius:20px 20px;\"><b>NumPy</b></p>"
   ]
  },
  {
   "cell_type": "markdown",
   "id": "0b956e8b-c012-4b7d-9fe1-be68fe668606",
   "metadata": {},
   "source": [
    "## <font color='green'> <b>Import the numpy package under the name as np & print the numpy version</b><font color='black'>"
   ]
  },
  {
   "cell_type": "code",
   "execution_count": 1,
   "id": "668e8221",
   "metadata": {
    "ExecuteTime": {
     "end_time": "2023-12-05T23:04:42.955081Z",
     "start_time": "2023-12-05T23:04:42.867177Z"
    }
   },
   "outputs": [
    {
     "name": "stdout",
     "output_type": "stream",
     "text": [
      "1.24.3\n"
     ]
    }
   ],
   "source": [
    "import numpy as np\n",
    "print(np.__version__)"
   ]
  },
  {
   "cell_type": "markdown",
   "id": "8c171220-e212-4057-ad4c-e809ba8961fd",
   "metadata": {},
   "source": [
    "## <font color='green'> <b>Create a null vector of size 10</b><font color='black'>"
   ]
  },
  {
   "cell_type": "code",
   "execution_count": 2,
   "id": "107c7c3b",
   "metadata": {
    "ExecuteTime": {
     "end_time": "2023-12-05T23:04:43.686615Z",
     "start_time": "2023-12-05T23:04:43.674548Z"
    }
   },
   "outputs": [
    {
     "name": "stdout",
     "output_type": "stream",
     "text": [
      "[0 0 0 0 0 0 0 0 0 0]\n"
     ]
    },
    {
     "data": {
      "text/plain": [
       "10"
      ]
     },
     "execution_count": 2,
     "metadata": {},
     "output_type": "execute_result"
    }
   ],
   "source": [
    "arr = np.zeros(10, dtype=int)\n",
    "print(arr)\n",
    "len(arr)"
   ]
  },
  {
   "cell_type": "markdown",
   "id": "2891b252-a1db-4ab4-a164-47c9cce9a271",
   "metadata": {},
   "source": [
    "## <font color='green'> <b>Create a null vector of size 10 but the fifth value which is 1</b><font color='black'>"
   ]
  },
  {
   "cell_type": "code",
   "execution_count": 3,
   "id": "51e58682",
   "metadata": {
    "ExecuteTime": {
     "end_time": "2023-12-05T23:04:44.506826Z",
     "start_time": "2023-12-05T23:04:44.503543Z"
    }
   },
   "outputs": [
    {
     "name": "stdout",
     "output_type": "stream",
     "text": [
      "[0 0 0 0 1 0 0 0 0 0]\n"
     ]
    }
   ],
   "source": [
    "arr = np.zeros(10, dtype=int)\n",
    "arr[4] = 1\n",
    "print(arr)"
   ]
  },
  {
   "cell_type": "markdown",
   "id": "491e5318-b216-48d8-8f35-82cd66594408",
   "metadata": {},
   "source": [
    "## <font color='green'> <b>Create a vector with values ranging from 10 to 50</b><font color='black'>"
   ]
  },
  {
   "cell_type": "code",
   "execution_count": 4,
   "id": "36253df9",
   "metadata": {
    "ExecuteTime": {
     "end_time": "2023-12-05T23:04:49.544298Z",
     "start_time": "2023-12-05T23:04:49.535426Z"
    }
   },
   "outputs": [
    {
     "data": {
      "text/plain": [
       "array([10, 11, 12, 13, 14, 15, 16, 17, 18, 19, 20, 21, 22, 23, 24, 25, 26,\n",
       "       27, 28, 29, 30, 31, 32, 33, 34, 35, 36, 37, 38, 39, 40, 41, 42, 43,\n",
       "       44, 45, 46, 47, 48, 49])"
      ]
     },
     "execution_count": 4,
     "metadata": {},
     "output_type": "execute_result"
    }
   ],
   "source": [
    "arr = np.arange(10,50)\n",
    "arr"
   ]
  },
  {
   "cell_type": "markdown",
   "id": "b7818669-03a5-4f61-b08f-b85b8dd94372",
   "metadata": {},
   "source": [
    "## <font color='green'> <b>Reverse a vector (first element becomes last)</b><font color='black'>"
   ]
  },
  {
   "cell_type": "code",
   "execution_count": 5,
   "id": "027a4256",
   "metadata": {
    "ExecuteTime": {
     "end_time": "2023-12-05T23:04:50.669338Z",
     "start_time": "2023-12-05T23:04:50.662580Z"
    }
   },
   "outputs": [
    {
     "data": {
      "text/plain": [
       "array([49, 48, 47, 46, 45, 44, 43, 42, 41, 40, 39, 38, 37, 36, 35, 34, 33,\n",
       "       32, 31, 30, 29, 28, 27, 26, 25, 24, 23, 22, 21, 20, 19, 18, 17, 16,\n",
       "       15, 14, 13, 12, 11, 10])"
      ]
     },
     "execution_count": 5,
     "metadata": {},
     "output_type": "execute_result"
    }
   ],
   "source": [
    "arr = np.arange(10,50)\n",
    "arr = np.flip(arr)\n",
    "arr"
   ]
  },
  {
   "cell_type": "markdown",
   "id": "5f4a94e4-596a-4c85-8356-7eb86d6cacbe",
   "metadata": {},
   "source": [
    "## <font color='green'> <b>Create a 3x3 matrix with values ranging from 0 to 9</b><font color='black'>"
   ]
  },
  {
   "cell_type": "code",
   "execution_count": 6,
   "id": "6bc73f48",
   "metadata": {
    "ExecuteTime": {
     "end_time": "2023-12-05T23:04:54.238043Z",
     "start_time": "2023-12-05T23:04:54.231346Z"
    }
   },
   "outputs": [
    {
     "data": {
      "text/plain": [
       "array([[3, 7, 5],\n",
       "       [4, 2, 2],\n",
       "       [2, 2, 7]])"
      ]
     },
     "execution_count": 6,
     "metadata": {},
     "output_type": "execute_result"
    }
   ],
   "source": [
    "arr = np.random.randint(0,10,9).reshape(3,3)\n",
    "arr"
   ]
  },
  {
   "cell_type": "markdown",
   "id": "0df95fd1-f316-4976-849b-756f927f382c",
   "metadata": {},
   "source": [
    "## <font color='green'> <b>Find indices of non­zero elements from [1,2,0,0,4,0]</b><font color='black'>\n",
    "**Extra research is required**"
   ]
  },
  {
   "cell_type": "code",
   "execution_count": 7,
   "id": "95edf755",
   "metadata": {
    "ExecuteTime": {
     "end_time": "2023-12-05T23:04:55.163239Z",
     "start_time": "2023-12-05T23:04:55.155225Z"
    }
   },
   "outputs": [
    {
     "data": {
      "text/plain": [
       "(array([0, 1, 4], dtype=int64),)"
      ]
     },
     "execution_count": 7,
     "metadata": {},
     "output_type": "execute_result"
    }
   ],
   "source": [
    "arr = np.array([1,2,0,0,4,0])\n",
    "\n",
    "np.nonzero(arr)\n"
   ]
  },
  {
   "cell_type": "markdown",
   "id": "efc45ac3-9297-4ea0-9fd8-8534c46935e4",
   "metadata": {},
   "source": [
    "## <font color='green'> <b>Create a 3x3 identity matrix</b><font color='black'>\n",
    "Identity matrix, kare matrisler için özel bir türdür. Diagonalindeki tüm elemanlar 1, diğer elemanlar ise 0 olan kare matrisdir."
   ]
  },
  {
   "cell_type": "code",
   "execution_count": 8,
   "id": "bb3b3ade",
   "metadata": {
    "ExecuteTime": {
     "end_time": "2023-12-05T23:04:56.589407Z",
     "start_time": "2023-12-05T23:04:56.582724Z"
    }
   },
   "outputs": [
    {
     "data": {
      "text/plain": [
       "array([[1., 0., 0.],\n",
       "       [0., 1., 0.],\n",
       "       [0., 0., 1.]])"
      ]
     },
     "execution_count": 8,
     "metadata": {},
     "output_type": "execute_result"
    }
   ],
   "source": [
    "arr = np.eye(3,3)\n",
    "arr"
   ]
  },
  {
   "cell_type": "markdown",
   "id": "aa19488a-0613-48f3-8604-4499afe134e8",
   "metadata": {},
   "source": [
    "## <font color='green'> <b>Create a 3x3x3 array with random values [1,2,0,0,4,0]</b><font color='black'>"
   ]
  },
  {
   "cell_type": "code",
   "execution_count": 9,
   "id": "facffca7",
   "metadata": {
    "ExecuteTime": {
     "end_time": "2023-12-05T23:04:57.751940Z",
     "start_time": "2023-12-05T23:04:57.746625Z"
    }
   },
   "outputs": [
    {
     "data": {
      "text/plain": [
       "array([[[1, 2, 4],\n",
       "        [0, 1, 2],\n",
       "        [4, 0, 1]],\n",
       "\n",
       "       [[2, 4, 0],\n",
       "        [1, 2, 4],\n",
       "        [0, 1, 2]],\n",
       "\n",
       "       [[4, 0, 1],\n",
       "        [2, 4, 0],\n",
       "        [1, 2, 4]]])"
      ]
     },
     "execution_count": 9,
     "metadata": {},
     "output_type": "execute_result"
    }
   ],
   "source": [
    "arr = np.array([1, 2, 4, 0]) \n",
    "np.resize(arr, (3, 3, 3))"
   ]
  },
  {
   "cell_type": "markdown",
   "id": "456bd772-149a-410a-9c86-04f1b19c6ae1",
   "metadata": {},
   "source": [
    "## <font color='green'> <b>Create a 10x10 array with random values and find the minimum and maximum values</b><font color='black'>"
   ]
  },
  {
   "cell_type": "code",
   "execution_count": 10,
   "id": "ec01322d",
   "metadata": {
    "ExecuteTime": {
     "end_time": "2023-12-05T23:05:05.656578Z",
     "start_time": "2023-12-05T23:05:05.652349Z"
    }
   },
   "outputs": [
    {
     "name": "stdout",
     "output_type": "stream",
     "text": [
      "[[343 411  31 386 301 486 332 278 132 491]\n",
      " [455 227 174 220 209   3 222 314 177 194]\n",
      " [299 170 192  47 352 402 447 488 460 277]\n",
      " [111 166 145 100 274   6 365 175  53  41]\n",
      " [101 463 324  23 488  87 331 450 433 188]\n",
      " [  6  35 394 402 383 173 378  36 342 165]\n",
      " [326 197  65 178 356 384 280   5 235 381]\n",
      " [233 339 363 379 151  45 333 173 414 259]\n",
      " [465 318 144 473 171  42   8 243  53  63]\n",
      " [239 482 395 295 282 354 395 386 271 407]]\n",
      "Max value in the array: 491\n",
      "Min value in the array: 3\n"
     ]
    }
   ],
   "source": [
    "arr = np.random.randint(0, 500, 100).reshape(10,10)\n",
    "print(arr)\n",
    "print(\"Max value in the array:\", np.max(arr))\n",
    "print(\"Min value in the array:\", arr.min())"
   ]
  },
  {
   "cell_type": "markdown",
   "id": "8cbf0c5f-e2dd-4418-b923-a52bbda70b7e",
   "metadata": {},
   "source": [
    "## <font color='green'> <b>Create a random vector of size 30 and find the mean value</b><font color='black'>"
   ]
  },
  {
   "cell_type": "code",
   "execution_count": 11,
   "id": "625f82b7",
   "metadata": {
    "ExecuteTime": {
     "end_time": "2023-12-05T23:05:10.793764Z",
     "start_time": "2023-12-05T23:05:10.786744Z"
    }
   },
   "outputs": [
    {
     "name": "stdout",
     "output_type": "stream",
     "text": [
      "[49  9 31 14  8 16  2 23 10 21  3 31 36 29 33 34  4  8 46 27 35 44 16  3\n",
      " 40  4 27 40 46 25]\n",
      "mean value of the array: 23.8\n"
     ]
    }
   ],
   "source": [
    "arr = np.random.randint(0, 50, 30)\n",
    "print(arr)\n",
    "print(\"mean value of the array:\" ,arr.mean())"
   ]
  },
  {
   "cell_type": "markdown",
   "id": "dcdb4e96",
   "metadata": {},
   "source": [
    "## <font color='green'> <b>How can I create an array with dimensions (6, 7, 8) using arange, and find its last element?</b><font color='black'>"
   ]
  },
  {
   "cell_type": "code",
   "execution_count": 12,
   "id": "844deeaf",
   "metadata": {
    "ExecuteTime": {
     "end_time": "2023-12-05T23:05:11.807310Z",
     "start_time": "2023-12-05T23:05:11.802579Z"
    }
   },
   "outputs": [
    {
     "data": {
      "text/plain": [
       "335"
      ]
     },
     "execution_count": 12,
     "metadata": {},
     "output_type": "execute_result"
    }
   ],
   "source": [
    "arr = np.arange(6 * 7 * 8).reshape(6,7,8)\n",
    "arr[-1][-1][-1]"
   ]
  },
  {
   "cell_type": "markdown",
   "id": "afc74cce-1589-434f-929e-d4f809eac34d",
   "metadata": {},
   "source": [
    "## <font color='green'> <b>Create a 5x5 matrix with row values ranging from 0 to 5</b><font color='black'>"
   ]
  },
  {
   "cell_type": "code",
   "execution_count": 13,
   "id": "522397f4",
   "metadata": {
    "ExecuteTime": {
     "end_time": "2023-12-05T23:05:15.866008Z",
     "start_time": "2023-12-05T23:05:15.859772Z"
    }
   },
   "outputs": [
    {
     "data": {
      "text/plain": [
       "array([[4, 2, 2, 0, 1],\n",
       "       [2, 4, 4, 1, 0],\n",
       "       [2, 2, 1, 0, 2],\n",
       "       [3, 0, 3, 2, 2],\n",
       "       [4, 4, 4, 2, 3]])"
      ]
     },
     "execution_count": 13,
     "metadata": {},
     "output_type": "execute_result"
    }
   ],
   "source": [
    "arr = np.random.randint(0, 5, 25).reshape(5,5)\n",
    "arr"
   ]
  },
  {
   "cell_type": "code",
   "execution_count": 15,
   "id": "b48ca3e8",
   "metadata": {
    "ExecuteTime": {
     "end_time": "2023-12-05T23:06:01.154381Z",
     "start_time": "2023-12-05T23:06:01.149826Z"
    }
   },
   "outputs": [
    {
     "data": {
      "text/plain": [
       "array([[0, 1, 2, 3, 4],\n",
       "       [0, 1, 2, 3, 4],\n",
       "       [0, 1, 2, 3, 4],\n",
       "       [0, 1, 2, 3, 4],\n",
       "       [0, 1, 2, 3, 4]])"
      ]
     },
     "execution_count": 15,
     "metadata": {},
     "output_type": "execute_result"
    }
   ],
   "source": [
    "arr = np.full((5, 5), np.arange(0, 5))\n",
    "arr"
   ]
  },
  {
   "cell_type": "markdown",
   "id": "cbea287c-b2ef-4c94-b4bc-e047ee69abd1",
   "metadata": {},
   "source": [
    "## <font color='green'> <b>Create a vector of size 12 with values ranging from 0 to 1 (excluding 0 and 1)</b><font color='black'>"
   ]
  },
  {
   "cell_type": "code",
   "execution_count": 57,
   "id": "b6caf3c4",
   "metadata": {
    "ExecuteTime": {
     "end_time": "2023-12-01T18:54:19.037765Z",
     "start_time": "2023-12-01T18:54:19.025595Z"
    }
   },
   "outputs": [
    {
     "data": {
      "text/plain": [
       "array([0.75643218, 0.01909323, 0.94099681, 0.18461649, 0.71093968,\n",
       "       0.73134704, 0.57697234, 0.41676442, 0.36224179, 0.43305149,\n",
       "       0.53271904, 0.21551442])"
      ]
     },
     "execution_count": 57,
     "metadata": {},
     "output_type": "execute_result"
    }
   ],
   "source": [
    "arr = np.random.random(12)\n",
    "arr"
   ]
  },
  {
   "cell_type": "code",
   "execution_count": 22,
   "id": "a710f439",
   "metadata": {
    "ExecuteTime": {
     "end_time": "2023-12-05T23:16:37.047766Z",
     "start_time": "2023-12-05T23:16:37.041596Z"
    }
   },
   "outputs": [
    {
     "name": "stdout",
     "output_type": "stream",
     "text": [
      "[0.07692308 0.15384615 0.23076923 0.30769231 0.38461538 0.46153846\n",
      " 0.53846154 0.61538462 0.69230769 0.76923077 0.84615385 0.92307692]\n"
     ]
    }
   ],
   "source": [
    "arr = np.linspace(0, 1, 13, endpoint=False)[1:]\n",
    "len(arr)\n",
    "print(arr)\n",
    "# garanti cozum"
   ]
  },
  {
   "cell_type": "markdown",
   "id": "1dc7d714-45a5-4bc7-a52e-37abe31bfb1f",
   "metadata": {},
   "source": [
    "## <font color='green'> <b>Create a random vector of size 10 and sort it</b><font color='black'>"
   ]
  },
  {
   "cell_type": "code",
   "execution_count": 23,
   "id": "c0a59fbf",
   "metadata": {
    "ExecuteTime": {
     "end_time": "2023-12-05T23:16:45.431697Z",
     "start_time": "2023-12-05T23:16:45.424494Z"
    }
   },
   "outputs": [
    {
     "data": {
      "text/plain": [
       "[0, 3, 6, 6, 6, 7, 7, 7, 8, 8]"
      ]
     },
     "execution_count": 23,
     "metadata": {},
     "output_type": "execute_result"
    }
   ],
   "source": [
    "arr = np.random.randint(0,11,10)\n",
    "sorted(arr)"
   ]
  },
  {
   "cell_type": "code",
   "execution_count": 24,
   "id": "9a284d51",
   "metadata": {
    "ExecuteTime": {
     "end_time": "2023-12-05T23:18:50.482083Z",
     "start_time": "2023-12-05T23:18:50.475116Z"
    }
   },
   "outputs": [
    {
     "data": {
      "text/plain": [
       "array([ 0,  1,  3,  4,  5,  7,  7,  8,  9, 10])"
      ]
     },
     "execution_count": 24,
     "metadata": {},
     "output_type": "execute_result"
    }
   ],
   "source": [
    "# Cozum 2:\n",
    "arr = np.random.randint(0,11,10)\n",
    "arr.sort()\n",
    "arr"
   ]
  },
  {
   "cell_type": "markdown",
   "id": "0d58bab8-cab1-4318-9405-6e54a17ac346",
   "metadata": {},
   "source": [
    "## <font color='green'> <b>Consider two random array A anb B, check if they are equal</b><font color='black'>\n",
    "**Extra research is required**"
   ]
  },
  {
   "cell_type": "code",
   "execution_count": 67,
   "id": "07d21f6d",
   "metadata": {
    "ExecuteTime": {
     "end_time": "2023-12-01T19:07:00.157629Z",
     "start_time": "2023-12-01T19:07:00.151327Z"
    }
   },
   "outputs": [
    {
     "name": "stdout",
     "output_type": "stream",
     "text": [
      "True\n",
      "False\n"
     ]
    }
   ],
   "source": [
    "A = np.arange(0,11,10)\n",
    "B = np.arange(0,11,10)\n",
    "print(np.array_equal(A, B))\n",
    "\n",
    "C = np.random.randint(0,11,10)\n",
    "D = np.random.randint(0,11,10)\n",
    "print(np.array_equal(C, D)) # dusuk bir ihtimalde esit gelebilir"
   ]
  },
  {
   "cell_type": "markdown",
   "id": "add060d3-6cca-47eb-8a48-2b9f33227130",
   "metadata": {},
   "source": [
    "## <font color='green'> <b>Generate a random vector of size 10 and replace the maximum value with 0</b><font color='black'>"
   ]
  },
  {
   "cell_type": "code",
   "execution_count": 25,
   "id": "6edc3993",
   "metadata": {
    "ExecuteTime": {
     "end_time": "2023-12-05T23:22:25.703283Z",
     "start_time": "2023-12-05T23:22:25.698376Z"
    }
   },
   "outputs": [
    {
     "data": {
      "text/plain": [
       "array([ 8,  0,  9,  3,  8, 10, 10,  9,  8, 10])"
      ]
     },
     "execution_count": 25,
     "metadata": {},
     "output_type": "execute_result"
    }
   ],
   "source": [
    "arr = np.random.randint(0,11,10)\n",
    "arr"
   ]
  },
  {
   "cell_type": "code",
   "execution_count": 26,
   "id": "602bcec1",
   "metadata": {
    "ExecuteTime": {
     "end_time": "2023-12-05T23:22:26.835605Z",
     "start_time": "2023-12-05T23:22:26.826408Z"
    }
   },
   "outputs": [
    {
     "data": {
      "text/plain": [
       "array([ 8,  0,  9,  3,  8,  0, 10,  9,  8, 10])"
      ]
     },
     "execution_count": 26,
     "metadata": {},
     "output_type": "execute_result"
    }
   ],
   "source": [
    "arr[arr.argmax()] = 0\n",
    "arr"
   ]
  },
  {
   "cell_type": "markdown",
   "id": "3d99138b-91e6-4d19-9195-1f384a68063b",
   "metadata": {},
   "source": [
    "## <font color='green'> <b>How to find the most frequent value in an array?</b><font color='black'>\n",
    "**Extra research is required**"
   ]
  },
  {
   "cell_type": "code",
   "execution_count": 41,
   "id": "19a6efab",
   "metadata": {
    "ExecuteTime": {
     "end_time": "2023-12-05T23:39:01.374127Z",
     "start_time": "2023-12-05T23:39:01.368751Z"
    }
   },
   "outputs": [
    {
     "data": {
      "text/plain": [
       "array([1, 3, 5, 3, 1, 5, 5, 5])"
      ]
     },
     "execution_count": 41,
     "metadata": {},
     "output_type": "execute_result"
    }
   ],
   "source": [
    "arr = np.array([1, 3, 5, 3, 1, 5, 5, 5])\n",
    "arr"
   ]
  },
  {
   "cell_type": "code",
   "execution_count": 42,
   "id": "6ebc0d82",
   "metadata": {
    "ExecuteTime": {
     "end_time": "2023-12-05T23:39:01.781872Z",
     "start_time": "2023-12-05T23:39:01.775442Z"
    }
   },
   "outputs": [
    {
     "data": {
      "text/plain": [
       "array([0, 2, 0, 2, 0, 4], dtype=int64)"
      ]
     },
     "execution_count": 42,
     "metadata": {},
     "output_type": "execute_result"
    }
   ],
   "source": [
    "counts = np.bincount(arr)\n",
    "counts \n",
    "# 0-> 0 kere , 1 -> 2 kere , 2 -> 0 kere , 3 -> 2 kere , 4 -> 0 kere , 5 -> 4 kere gecmis"
   ]
  },
  {
   "cell_type": "code",
   "execution_count": 43,
   "id": "3997fd33",
   "metadata": {
    "ExecuteTime": {
     "end_time": "2023-12-05T23:39:02.241137Z",
     "start_time": "2023-12-05T23:39:02.234786Z"
    }
   },
   "outputs": [
    {
     "data": {
      "text/plain": [
       "5"
      ]
     },
     "execution_count": 43,
     "metadata": {},
     "output_type": "execute_result"
    }
   ],
   "source": [
    "most_frequent = np.argmax(counts) \n",
    "# counts arrayindeki max degerin indexini yani bizim max tekrar eden valueyu getirir\n",
    "most_frequent"
   ]
  },
  {
   "cell_type": "markdown",
   "id": "643742e8",
   "metadata": {},
   "source": [
    "## <font color='green'> <b>Create a 2d array with 1 on the border and 0 inside</b><font color='black'>"
   ]
  },
  {
   "cell_type": "code",
   "execution_count": 81,
   "id": "affc3c2a",
   "metadata": {
    "ExecuteTime": {
     "end_time": "2023-12-06T00:04:57.259136Z",
     "start_time": "2023-12-06T00:04:57.254570Z"
    }
   },
   "outputs": [
    {
     "data": {
      "text/plain": [
       "array([[0., 0., 0., 0., 0.],\n",
       "       [0., 0., 0., 0., 0.],\n",
       "       [0., 0., 0., 0., 0.],\n",
       "       [0., 0., 0., 0., 0.],\n",
       "       [0., 0., 0., 0., 0.]])"
      ]
     },
     "execution_count": 81,
     "metadata": {},
     "output_type": "execute_result"
    }
   ],
   "source": [
    "arr = np.zeros((5,5))\n",
    "arr"
   ]
  },
  {
   "cell_type": "code",
   "execution_count": 82,
   "id": "3ff31bcc",
   "metadata": {
    "ExecuteTime": {
     "end_time": "2023-12-06T00:04:57.682609Z",
     "start_time": "2023-12-06T00:04:57.675246Z"
    }
   },
   "outputs": [
    {
     "data": {
      "text/plain": [
       "array([[1., 1., 1., 1., 1.],\n",
       "       [1., 0., 0., 0., 1.],\n",
       "       [1., 0., 0., 0., 1.],\n",
       "       [1., 0., 0., 0., 1.],\n",
       "       [1., 1., 1., 1., 1.]])"
      ]
     },
     "execution_count": 82,
     "metadata": {},
     "output_type": "execute_result"
    }
   ],
   "source": [
    "arr[0,:] = 1\n",
    "arr[:, 0] = 1\n",
    "arr[:, -1] = 1\n",
    "arr[-1, :] = 1\n",
    "arr"
   ]
  },
  {
   "cell_type": "markdown",
   "id": "823dbb42",
   "metadata": {},
   "source": [
    "## <font color='green'> <b>Create a 5x5 matrix with values 1,2,3,4 just below the diagonal</b><font color='black'>\n",
    "**Extra research may be required**"
   ]
  },
  {
   "attachments": {
    "image.png": {
     "image/png": "[encoded data removed]"
    }
   },
   "cell_type": "markdown",
   "id": "e65c7127",
   "metadata": {},
   "source": [
    "![image.png](attachment:image.png)"
   ]
  },
  {
   "cell_type": "code",
   "execution_count": 47,
   "id": "7b368d01",
   "metadata": {
    "ExecuteTime": {
     "end_time": "2023-12-05T23:46:39.449433Z",
     "start_time": "2023-12-05T23:46:39.444875Z"
    }
   },
   "outputs": [
    {
     "data": {
      "text/plain": [
       "array([[0, 0, 0, 0, 0],\n",
       "       [1, 0, 0, 0, 0],\n",
       "       [0, 2, 0, 0, 0],\n",
       "       [0, 0, 3, 0, 0],\n",
       "       [0, 0, 0, 4, 0]])"
      ]
     },
     "execution_count": 47,
     "metadata": {},
     "output_type": "execute_result"
    }
   ],
   "source": [
    "arr = np.diag([1, 2, 3, 4], k=-1)\n",
    "arr"
   ]
  },
  {
   "cell_type": "markdown",
   "id": "19b54bac",
   "metadata": {},
   "source": [
    "## <font color='green'> <b>Create a 8x8 matrix and fill it with a checkerboard pattern</b><font color='black'>"
   ]
  },
  {
   "attachments": {
    "image.png": {
     "image/png": "[encoded data removed]"
    }
   },
   "cell_type": "markdown",
   "id": "2ce4419c",
   "metadata": {},
   "source": [
    "![image.png](attachment:image.png)"
   ]
  },
  {
   "cell_type": "code",
   "execution_count": 76,
   "id": "d51e25f9",
   "metadata": {
    "ExecuteTime": {
     "end_time": "2023-12-06T00:00:28.273700Z",
     "start_time": "2023-12-06T00:00:28.267966Z"
    }
   },
   "outputs": [
    {
     "data": {
      "text/plain": [
       "array([[1., 1., 1., 1., 1., 1., 1., 1.],\n",
       "       [1., 1., 1., 1., 1., 1., 1., 1.],\n",
       "       [1., 1., 1., 1., 1., 1., 1., 1.],\n",
       "       [1., 1., 1., 1., 1., 1., 1., 1.],\n",
       "       [1., 1., 1., 1., 1., 1., 1., 1.],\n",
       "       [1., 1., 1., 1., 1., 1., 1., 1.],\n",
       "       [1., 1., 1., 1., 1., 1., 1., 1.],\n",
       "       [1., 1., 1., 1., 1., 1., 1., 1.]])"
      ]
     },
     "execution_count": 76,
     "metadata": {},
     "output_type": "execute_result"
    }
   ],
   "source": [
    "arr = np.ones((8,8))\n",
    "arr"
   ]
  },
  {
   "cell_type": "code",
   "execution_count": 77,
   "id": "435fd773",
   "metadata": {
    "ExecuteTime": {
     "end_time": "2023-12-06T00:00:28.583376Z",
     "start_time": "2023-12-06T00:00:28.573832Z"
    }
   },
   "outputs": [
    {
     "data": {
      "text/plain": [
       "array([[0., 1., 0., 1., 0., 1., 0., 1.],\n",
       "       [1., 1., 1., 1., 1., 1., 1., 1.],\n",
       "       [0., 1., 0., 1., 0., 1., 0., 1.],\n",
       "       [1., 1., 1., 1., 1., 1., 1., 1.],\n",
       "       [0., 1., 0., 1., 0., 1., 0., 1.],\n",
       "       [1., 1., 1., 1., 1., 1., 1., 1.],\n",
       "       [0., 1., 0., 1., 0., 1., 0., 1.],\n",
       "       [1., 1., 1., 1., 1., 1., 1., 1.]])"
      ]
     },
     "execution_count": 77,
     "metadata": {},
     "output_type": "execute_result"
    }
   ],
   "source": [
    "arr[::2,::2] = 0\n",
    "arr"
   ]
  },
  {
   "cell_type": "code",
   "execution_count": 78,
   "id": "c1633434",
   "metadata": {
    "ExecuteTime": {
     "end_time": "2023-12-06T00:02:11.670211Z",
     "start_time": "2023-12-06T00:02:11.662585Z"
    }
   },
   "outputs": [
    {
     "data": {
      "text/plain": [
       "array([[0., 1., 0., 1., 0., 1., 0., 1.],\n",
       "       [1., 0., 1., 0., 1., 0., 1., 0.],\n",
       "       [0., 1., 0., 1., 0., 1., 0., 1.],\n",
       "       [1., 0., 1., 0., 1., 0., 1., 0.],\n",
       "       [0., 1., 0., 1., 0., 1., 0., 1.],\n",
       "       [1., 0., 1., 0., 1., 0., 1., 0.],\n",
       "       [0., 1., 0., 1., 0., 1., 0., 1.],\n",
       "       [1., 0., 1., 0., 1., 0., 1., 0.]])"
      ]
     },
     "execution_count": 78,
     "metadata": {},
     "output_type": "execute_result"
    }
   ],
   "source": [
    "arr[1::2,1::2] = 0\n",
    "arr"
   ]
  },
  {
   "cell_type": "markdown",
   "id": "50007555",
   "metadata": {},
   "source": [
    "## <font color='green'> <b>Create a checkerboard 8x8 matrix using the tile function</b><font color='black'>\n",
    "**Extra research is required**"
   ]
  },
  {
   "cell_type": "code",
   "execution_count": 89,
   "id": "6234d8fc",
   "metadata": {
    "ExecuteTime": {
     "end_time": "2023-12-06T00:15:54.191362Z",
     "start_time": "2023-12-06T00:15:54.186544Z"
    }
   },
   "outputs": [
    {
     "data": {
      "text/plain": [
       "array([[0, 1],\n",
       "       [1, 0]])"
      ]
     },
     "execution_count": 89,
     "metadata": {},
     "output_type": "execute_result"
    }
   ],
   "source": [
    "arr = np.array([[0, 1], [1, 0]])\n",
    "arr\n",
    "# bu arrayi tile ile 4er kere yaymis olduk"
   ]
  },
  {
   "cell_type": "code",
   "execution_count": 90,
   "id": "3aba5dc2",
   "metadata": {
    "ExecuteTime": {
     "end_time": "2023-12-06T00:15:56.286100Z",
     "start_time": "2023-12-06T00:15:56.281338Z"
    }
   },
   "outputs": [
    {
     "data": {
      "text/plain": [
       "array([[0, 1, 0, 1, 0, 1, 0, 1],\n",
       "       [1, 0, 1, 0, 1, 0, 1, 0],\n",
       "       [0, 1, 0, 1, 0, 1, 0, 1],\n",
       "       [1, 0, 1, 0, 1, 0, 1, 0],\n",
       "       [0, 1, 0, 1, 0, 1, 0, 1],\n",
       "       [1, 0, 1, 0, 1, 0, 1, 0],\n",
       "       [0, 1, 0, 1, 0, 1, 0, 1],\n",
       "       [1, 0, 1, 0, 1, 0, 1, 0]])"
      ]
     },
     "execution_count": 90,
     "metadata": {},
     "output_type": "execute_result"
    }
   ],
   "source": [
    "arr = np.tile([[0, 1], [1, 0]], (4, 4))\n",
    "arr"
   ]
  }
 ],
 "metadata": {
  "hide_input": false,
  "kernelspec": {
   "display_name": "Python 3 (ipykernel)",
   "language": "python",
   "name": "python3"
  },
  "language_info": {
   "codemirror_mode": {
    "name": "ipython",
    "version": 3
   },
   "file_extension": ".py",
   "mimetype": "text/x-python",
   "name": "python",
   "nbconvert_exporter": "python",
   "pygments_lexer": "ipython3",
   "version": "3.11.5"
  },
  "toc": {
   "base_numbering": 1,
   "nav_menu": {},
   "number_sections": true,
   "sideBar": true,
   "skip_h1_title": false,
   "title_cell": "Table of Contents",
   "title_sidebar": "Contents",
   "toc_cell": false,
   "toc_position": {
    "height": "calc(100% - 180px)",
    "left": "10px",
    "top": "150px",
    "width": "206.629px"
   },
   "toc_section_display": true,
   "toc_window_display": true
  },
  "varInspector": {
   "cols": {
    "lenName": 16,
    "lenType": 16,
    "lenVar": 40
   },
   "kernels_config": {
    "python": {
     "delete_cmd_postfix": "",
     "delete_cmd_prefix": "del ",
     "library": "var_list.py",
     "varRefreshCmd": "print(var_dic_list())"
    },
    "r": {
     "delete_cmd_postfix": ") ",
     "delete_cmd_prefix": "rm(",
     "library": "var_list.r",
     "varRefreshCmd": "cat(var_dic_list()) "
    }
   },
   "types_to_exclude": [
    "module",
    "function",
    "builtin_function_or_method",
    "instance",
    "_Feature"
   ],
   "window_display": false
  }
 },
 "nbformat": 4,
 "nbformat_minor": 5
}
